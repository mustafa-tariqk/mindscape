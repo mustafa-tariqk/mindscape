{
 "cells": [
  {
   "cell_type": "markdown",
   "metadata": {},
   "source": [
    "# Modify database.db with new clusters\n",
    "Meant to be used on a separate machine"
   ]
  },
  {
   "cell_type": "code",
   "execution_count": null,
   "metadata": {},
   "outputs": [],
   "source": [
    "from server import models\n",
    "from server.controllers.utils import ai, database, vstore\n",
    "\n",
    "from flask import session\n",
    "import faiss\n",
    "\n",
    "from os import environ\n",
    "from dotenv import load_dotenv"
   ]
  },
  {
   "cell_type": "code",
   "execution_count": null,
   "metadata": {},
   "outputs": [],
   "source": [
    "load_dotenv()"
   ]
  },
  {
   "cell_type": "code",
   "execution_count": null,
   "metadata": {},
   "outputs": [],
   "source": [
    "# Initialize the Flask app\n",
    "app = models.create_app()"
   ]
  },
  {
   "cell_type": "code",
   "execution_count": null,
   "metadata": {},
   "outputs": [],
   "source": [
    "def cluster_all_chats(k=5):\n",
    "    \"\"\"\n",
    "    Clusters all chats into experiences. Using k-means clustering.\n",
    "    Will rewrite the entire experience table as well as reassign the experience field in the chat table.\n",
    "    @param k: The number of clusters to create\n",
    "    \"\"\"\n",
    "    models.Experiences.query.delete() # clear the table\n",
    "    models.db.session.commit() # experience field in chat table will be set to null\n",
    "\n",
    "    chats = models.Chats.query.filter_by(flag=False).all() # get all the chats, potentially not a good idea, consider just using id\n",
    "    if len(chats) == 0:\n",
    "        return # no chats to cluster\n",
    "    chats_vstore = vstore.create_chats_vectorstore(chats, ai.llm_embedder)\n",
    "\n",
    "    embeddings = [ai.llm_embedder.embed_query(chat.summary) for chat in chats] # RAM intensive, also may waste tokens\n",
    "\n",
    "    # cluster using faiss.KMeans\n",
    "    kmeans = faiss.Kmeans(len(embeddings[0]), k, niter=20, verbose=True)\n",
    "    kmeans.train(embeddings)\n",
    "\n",
    "    # assign the closest chat to the centroid as the centroid\n",
    "    for i in range(k):\n",
    "        closest_chat_doc, _ = vstore.get_k_nearest_by_vector(kmeans.centroids[i], chats_vstore, 1)[0]\n",
    "        # assign closest chat as a experience, maybe give it a name\n",
    "        closest_chat = models.Chats.query.get(closest_chat_doc.page_content)\n",
    "        models.db.session.add(models.Experiences(name=closest_chat.summary, id=closest_chat.id))\n",
    "        models.db.session.commit()\n",
    "\n",
    "    # assign the chat to the closest experience\n",
    "    experiences = models.Experiences.query.all()\n",
    "    exp_vstore = vstore.create_exp_vectorstore(experiences, ai.llm_embedder)\n",
    "    for chat in chats:\n",
    "        closest_exp_docs, _ = vstore.get_k_nearest_by_vector(ai.llm_embedder.embed_query(chat.summary), exp_vstore, 1)[0]\n",
    "        closest_exp = models.Experiences.query.get(closest_exp_docs.page_content)\n",
    "        chat.experience = closest_exp.id\n",
    "        models.db.session.commit()"
   ]
  }
 ],
 "metadata": {
  "kernelspec": {
   "display_name": ".venv",
   "language": "python",
   "name": "python3"
  },
  "language_info": {
   "name": "python",
   "version": "3.10.12"
  }
 },
 "nbformat": 4,
 "nbformat_minor": 2
}
